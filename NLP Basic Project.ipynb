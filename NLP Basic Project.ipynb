{
 "cells": [
  {
   "cell_type": "code",
   "execution_count": 2,
   "metadata": {},
   "outputs": [],
   "source": [
    "import nltk\n",
    "from nltk.tokenize import word_tokenize\n",
    "from collections import Counter\n",
    "from nltk.corpus import stopwords"
   ]
  },
  {
   "cell_type": "code",
   "execution_count": 9,
   "metadata": {},
   "outputs": [],
   "source": [
    "import pandas as pd\n",
    "import matplotlib.pyplot as plt"
   ]
  },
  {
   "cell_type": "code",
   "execution_count": 10,
   "metadata": {},
   "outputs": [
    {
     "name": "stderr",
     "output_type": "stream",
     "text": [
      "[nltk_data] Downloading package punkt to C:\\Users\\Fenil\n",
      "[nltk_data]     Maisuria\\AppData\\Roaming\\nltk_data...\n",
      "[nltk_data]   Package punkt is already up-to-date!\n"
     ]
    },
    {
     "data": {
      "text/plain": [
       "True"
      ]
     },
     "execution_count": 10,
     "metadata": {},
     "output_type": "execute_result"
    }
   ],
   "source": [
    "nltk.download('punkt')"
   ]
  },
  {
   "cell_type": "code",
   "execution_count": 11,
   "metadata": {},
   "outputs": [
    {
     "data": {
      "text/plain": [
       "['A', 'stock', '(', 'also', 'known', 'as', 'shares', 'or', 'equity', ')']"
      ]
     },
     "execution_count": 11,
     "metadata": {},
     "output_type": "execute_result"
    }
   ],
   "source": [
    "text = \"A stock (also known as shares or equity) is a type of security that signifies proportionate ownership in the issuing corporation. This entitles the stockholder to that proportion of the corporation's assets and earnings. ... These investments can be purchased from most online stock brokers\"\n",
    "words = word_tokenize(text)\n",
    "words[:10]"
   ]
  },
  {
   "cell_type": "code",
   "execution_count": 12,
   "metadata": {},
   "outputs": [
    {
     "name": "stdout",
     "output_type": "stream",
     "text": [
      "[1, 5, 1, 4, 5, 2, 6, 2, 6, 1, 2, 1, 4, 2, 8, 4, 9, 13, 9, 2, 3, 7, 11, 1, 4, 8, 3, 11, 2, 4, 10, 2, 3, 11, 2, 6, 3, 8, 1, 3, 5, 11, 3, 2, 9, 4, 4, 6, 5, 7]\n"
     ]
    },
    {
     "data": {
      "text/plain": [
       "(array([15.,  6.,  7.,  4.,  4.,  5.,  3.,  1.,  4.,  1.]),\n",
       " array([ 1. ,  2.2,  3.4,  4.6,  5.8,  7. ,  8.2,  9.4, 10.6, 11.8, 13. ]),\n",
       " <a list of 10 Patch objects>)"
      ]
     },
     "execution_count": 12,
     "metadata": {},
     "output_type": "execute_result"
    },
    {
     "data": {
      "image/png": "[encoded data removed]",
      "text/plain": [
       "<Figure size 432x288 with 1 Axes>"
      ]
     },
     "metadata": {
      "needs_background": "light"
     },
     "output_type": "display_data"
    }
   ],
   "source": [
    "word_length = [len(i) for i in words]\n",
    "print(word_length)\n",
    "plt.hist(word_length)"
   ]
  },
  {
   "cell_type": "code",
   "execution_count": 13,
   "metadata": {},
   "outputs": [
    {
     "data": {
      "text/plain": [
       "Counter({'A': 1,\n",
       "         'stock': 2,\n",
       "         '(': 1,\n",
       "         'also': 1,\n",
       "         'known': 1,\n",
       "         'as': 1,\n",
       "         'shares': 1,\n",
       "         'or': 1,\n",
       "         'equity': 1,\n",
       "         ')': 1,\n",
       "         'is': 1,\n",
       "         'a': 1,\n",
       "         'type': 1,\n",
       "         'of': 2,\n",
       "         'security': 1,\n",
       "         'that': 2,\n",
       "         'signifies': 1,\n",
       "         'proportionate': 1,\n",
       "         'ownership': 1,\n",
       "         'in': 1,\n",
       "         'the': 3,\n",
       "         'issuing': 1,\n",
       "         'corporation': 2,\n",
       "         '.': 2,\n",
       "         'This': 1,\n",
       "         'entitles': 1,\n",
       "         'stockholder': 1,\n",
       "         'to': 1,\n",
       "         'proportion': 1,\n",
       "         \"'s\": 1,\n",
       "         'assets': 1,\n",
       "         'and': 1,\n",
       "         'earnings': 1,\n",
       "         '...': 1,\n",
       "         'These': 1,\n",
       "         'investments': 1,\n",
       "         'can': 1,\n",
       "         'be': 1,\n",
       "         'purchased': 1,\n",
       "         'from': 1,\n",
       "         'most': 1,\n",
       "         'online': 1,\n",
       "         'brokers': 1})"
      ]
     },
     "execution_count": 13,
     "metadata": {},
     "output_type": "execute_result"
    }
   ],
   "source": [
    "count = Counter(words)\n",
    "count"
   ]
  },
  {
   "cell_type": "code",
   "execution_count": 20,
   "metadata": {},
   "outputs": [
    {
     "data": {
      "text/plain": [
       "[('the', 3),\n",
       " ('stock', 2),\n",
       " ('of', 2),\n",
       " ('that', 2),\n",
       " ('corporation', 2),\n",
       " ('.', 2),\n",
       " ('A', 1),\n",
       " ('(', 1),\n",
       " ('also', 1),\n",
       " ('known', 1)]"
      ]
     },
     "execution_count": 20,
     "metadata": {},
     "output_type": "execute_result"
    }
   ],
   "source": [
    "count.most_common(10)"
   ]
  },
  {
   "cell_type": "code",
   "execution_count": 15,
   "metadata": {},
   "outputs": [
    {
     "name": "stderr",
     "output_type": "stream",
     "text": [
      "[nltk_data] Downloading package stopwords to C:\\Users\\Fenil\n",
      "[nltk_data]     Maisuria\\AppData\\Roaming\\nltk_data...\n",
      "[nltk_data]   Package stopwords is already up-to-date!\n"
     ]
    },
    {
     "data": {
      "text/plain": [
       "True"
      ]
     },
     "execution_count": 15,
     "metadata": {},
     "output_type": "execute_result"
    }
   ],
   "source": [
    "nltk.download('stopwords')"
   ]
  },
  {
   "cell_type": "code",
   "execution_count": 16,
   "metadata": {},
   "outputs": [
    {
     "data": {
      "text/plain": [
       "['a',\n",
       " 'stock',\n",
       " 'also',\n",
       " 'known',\n",
       " 'as',\n",
       " 'shares',\n",
       " 'or',\n",
       " 'equity',\n",
       " 'is',\n",
       " 'a',\n",
       " 'type',\n",
       " 'of',\n",
       " 'security',\n",
       " 'that',\n",
       " 'signifies',\n",
       " 'proportionate',\n",
       " 'ownership',\n",
       " 'in',\n",
       " 'the',\n",
       " 'issuing',\n",
       " 'corporation',\n",
       " 'this',\n",
       " 'entitles',\n",
       " 'the',\n",
       " 'stockholder',\n",
       " 'to',\n",
       " 'that',\n",
       " 'proportion',\n",
       " 'of',\n",
       " 'the',\n",
       " 'corporation',\n",
       " 'assets',\n",
       " 'and',\n",
       " 'earnings',\n",
       " 'these',\n",
       " 'investments',\n",
       " 'can',\n",
       " 'be',\n",
       " 'purchased',\n",
       " 'from',\n",
       " 'most',\n",
       " 'online',\n",
       " 'stock',\n",
       " 'brokers']"
      ]
     },
     "execution_count": 16,
     "metadata": {},
     "output_type": "execute_result"
    }
   ],
   "source": [
    "tokens = [word for word in word_tokenize(text.lower()) if word.isalpha()]\n",
    "tokens"
   ]
  },
  {
   "cell_type": "code",
   "execution_count": 17,
   "metadata": {},
   "outputs": [
    {
     "data": {
      "text/plain": [
       "['stock',\n",
       " 'also',\n",
       " 'known',\n",
       " 'shares',\n",
       " 'equity',\n",
       " 'type',\n",
       " 'security',\n",
       " 'signifies',\n",
       " 'proportionate',\n",
       " 'ownership',\n",
       " 'issuing',\n",
       " 'corporation',\n",
       " 'entitles',\n",
       " 'stockholder',\n",
       " 'proportion',\n",
       " 'corporation',\n",
       " 'assets',\n",
       " 'earnings',\n",
       " 'investments',\n",
       " 'purchased',\n",
       " 'online',\n",
       " 'stock',\n",
       " 'brokers']"
      ]
     },
     "execution_count": 17,
     "metadata": {},
     "output_type": "execute_result"
    }
   ],
   "source": [
    "no_stops = [t for t in tokens\n",
    "           if t not in stopwords.words('english')]\n",
    "no_stops"
   ]
  },
  {
   "cell_type": "code",
   "execution_count": 77,
   "metadata": {},
   "outputs": [
    {
     "name": "stdout",
     "output_type": "stream",
     "text": [
      "[('stock', 2), ('corporation', 2), ('also', 1), ('known', 1), ('shares', 1)]\n"
     ]
    }
   ],
   "source": [
    "mc =Counter(no_stops).most_common(5)\n",
    "print(mc[:5])\n"
   ]
  },
  {
   "cell_type": "code",
   "execution_count": 26,
   "metadata": {},
   "outputs": [
    {
     "data": {
      "text/plain": [
       "([array([1., 1., 0., 0., 0., 0., 0., 0., 0., 0.]),\n",
       "  array([0., 1., 0., 1., 0., 0., 0., 0., 0., 0.]),\n",
       "  array([0., 0., 0., 0., 0., 1., 1., 0., 0., 0.]),\n",
       "  array([0., 0., 0., 0., 0., 0., 1., 0., 1., 0.]),\n",
       "  array([0., 0., 0., 0., 0., 0., 1., 0., 0., 1.])],\n",
       " array([0. , 0.6, 1.2, 1.8, 2.4, 3. , 3.6, 4.2, 4.8, 5.4, 6. ]),\n",
       " <a list of 5 Lists of Patches objects>)"
      ]
     },
     "execution_count": 26,
     "metadata": {},
     "output_type": "execute_result"
    },
    {
     "data": {
      "image/png": "[encoded data removed]",
      "text/plain": [
       "<Figure size 432x288 with 1 Axes>"
      ]
     },
     "metadata": {
      "needs_background": "light"
     },
     "output_type": "display_data"
    }
   ],
   "source": [
    "plt.hist(mc)"
   ]
  },
  {
   "cell_type": "code",
   "execution_count": null,
   "metadata": {},
   "outputs": [],
   "source": []
  },
  {
   "cell_type": "code",
   "execution_count": null,
   "metadata": {},
   "outputs": [],
   "source": []
  }
 ],
 "metadata": {
  "kernelspec": {
   "display_name": "Python 3",
   "language": "python",
   "name": "python3"
  },
  "language_info": {
   "codemirror_mode": {
    "name": "ipython",
    "version": 3
   },
   "file_extension": ".py",
   "mimetype": "text/x-python",
   "name": "python",
   "nbconvert_exporter": "python",
   "pygments_lexer": "ipython3",
   "version": "3.7.3"
  }
 },
 "nbformat": 4,
 "nbformat_minor": 2
}
